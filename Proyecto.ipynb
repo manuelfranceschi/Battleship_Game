{
 "cells": [
  {
   "attachments": {},
   "cell_type": "markdown",
   "metadata": {},
   "source": [
    "        Importamos la libreria de numpy y random"
   ]
  },
  {
   "cell_type": "code",
   "execution_count": 17,
   "metadata": {},
   "outputs": [],
   "source": [
    "import numpy as np\n",
    "import random"
   ]
  },
  {
   "attachments": {},
   "cell_type": "markdown",
   "metadata": {},
   "source": [
    "1. Crea la función `crear_tablero(tamaño)`, un tablero por defecto de 10x10 relleno del carácter \"_\" con numpy."
   ]
  },
  {
   "cell_type": "code",
   "execution_count": 18,
   "metadata": {},
   "outputs": [],
   "source": [
    "def crear_tablero(tamaño):\n",
    "    tablero = np.full((tamaño,tamaño), \"_\")\n",
    "    return tablero"
   ]
  },
  {
   "attachments": {},
   "cell_type": "markdown",
   "metadata": {},
   "source": [
    "2. Crea la función `colocar_barco(barco, tablero)`, que recibirá la lista de casillas de un barco y el tablero donde colocarlo. Prueba primero a posicionar un par de barcos por ejemplo en [(0,1), (1,1)] y [(1,3), (1,4), (1,5), (1,6)]. Los barcos serán Os mayúsculas. Como ves, un barco de dos posiciones de eslora y otro de cuatro."
   ]
  },
  {
   "cell_type": "code",
   "execution_count": 19,
   "metadata": {},
   "outputs": [],
   "source": [
    "def colocar_barco(barco, tablero):\n",
    "    for casilla in barco:\n",
    "        tablero[casilla] = \"O\"\n",
    "    return tablero"
   ]
  },
  {
   "attachments": {},
   "cell_type": "markdown",
   "metadata": {},
   "source": [
    "3. Crea la función `disparar(casilla, tablero)`, si el disparo acierta en un barco sustituye la O por una X (tocado), si es agua, sustituye la _ por una A (Agua). Prueba primero a disparar el barco de 2 casillas."
   ]
  },
  {
   "cell_type": "code",
   "execution_count": 20,
   "metadata": {},
   "outputs": [],
   "source": [
    "def disparar(casilla, tablero):\n",
    "    if tablero[casilla] == \"O\":\n",
    "        print(\"Tocado\")\n",
    "        tablero[casilla] = \"X\"\n",
    "    else:\n",
    "        print(\"Agua\")\n",
    "        tablero[casilla] = \"A\"\n",
    "    return tablero"
   ]
  },
  {
   "cell_type": "code",
   "execution_count": 21,
   "metadata": {},
   "outputs": [
    {
     "name": "stdout",
     "output_type": "stream",
     "text": [
      "Agua\n",
      "Tocado\n",
      "Tocado\n",
      "[['A' 'X' '_' '_' '_' '_' '_' '_' '_' '_']\n",
      " ['_' 'X' '_' 'O' 'O' 'O' 'O' '_' '_' '_']\n",
      " ['_' '_' '_' '_' '_' '_' '_' '_' '_' '_']\n",
      " ['_' '_' '_' '_' '_' '_' '_' '_' '_' '_']\n",
      " ['_' '_' '_' '_' '_' '_' '_' '_' '_' '_']\n",
      " ['_' '_' '_' '_' '_' '_' '_' '_' '_' '_']\n",
      " ['_' '_' '_' '_' '_' '_' '_' '_' '_' '_']\n",
      " ['_' '_' '_' '_' '_' '_' '_' '_' '_' '_']\n",
      " ['_' '_' '_' '_' '_' '_' '_' '_' '_' '_']\n",
      " ['_' '_' '_' '_' '_' '_' '_' '_' '_' '_']]\n",
      "['A' 'X' '_' '_' '_' '_' '_' '_' '_' '_']\n"
     ]
    }
   ],
   "source": [
    "tablero = crear_tablero(10)\n",
    "\n",
    "barco_1 = [(0,1), (1,1)] \n",
    "barco_2 = [(1,3), (1,4), (1,5), (1,6)]\n",
    "\n",
    "tablero = colocar_barco(barco_1, tablero)\n",
    "tablero = colocar_barco(barco_2, tablero)\n",
    "\n",
    "tablero = disparar((0,0), tablero)\n",
    "tablero = disparar((0,1), tablero)\n",
    "tablero = disparar((1,1), tablero)\n",
    "\n",
    "print(tablero)\n",
    "print(tablero[0])"
   ]
  },
  {
   "attachments": {},
   "cell_type": "markdown",
   "metadata": {},
   "source": [
    "4. Crea la función `crear_barco(eslora)`, que deberá crear una lista de casillas de un barco en función a la eslora, de forma aleatoria."
   ]
  },
  {
   "cell_type": "code",
   "execution_count": 22,
   "metadata": {},
   "outputs": [],
   "source": [
    "def crear_barco(eslora): #eslora es la longitud del barco\n",
    "    casilla_0 = (random.randint(0,9), random.randint(0,9)) #casilla en la que empezará\n",
    "    orientacion = random.choice([\"Vertical\", \"Horizontal\"]) #orientacion por donde se creara el barco\n",
    "\n",
    "    barco = [casilla_0]\n",
    "    casilla = casilla_0\n",
    "    while len(barco) < eslora:\n",
    "        if orientacion == \"Vertical\":\n",
    "            casilla = (casilla[0]+1, casilla[1])\n",
    "            barco.append(casilla) # Vertical\n",
    "        else:\n",
    "            casilla = (casilla[0], casilla[1]+1)\n",
    "            barco.append(casilla) # Horizontal         \n",
    "    \n",
    "    for x,y in barco:\n",
    "        if x == len(tablero) or y == len(tablero):\n",
    "            return crear_barco(eslora)\n",
    "    return barco\n",
    "\n"
   ]
  },
  {
   "cell_type": "code",
   "execution_count": 23,
   "metadata": {},
   "outputs": [
    {
     "name": "stdout",
     "output_type": "stream",
     "text": [
      "[(3, 5), (3, 6)]\n",
      "Agua\n",
      "Tocado\n",
      "Agua\n",
      "[['A' 'X' 'O' 'O' 'O' '_' '_' '_' '_' '_']\n",
      " ['_' 'A' '_' '_' '_' '_' '_' '_' '_' '_']\n",
      " ['_' '_' '_' '_' '_' '_' '_' '_' '_' '_']\n",
      " ['_' '_' '_' '_' '_' 'O' 'O' '_' '_' '_']\n",
      " ['_' '_' '_' '_' '_' '_' '_' '_' '_' '_']\n",
      " ['_' '_' '_' '_' '_' '_' '_' '_' '_' '_']\n",
      " ['_' '_' '_' '_' '_' '_' '_' '_' '_' '_']\n",
      " ['_' '_' '_' '_' '_' '_' '_' '_' '_' '_']\n",
      " ['_' '_' '_' '_' '_' '_' '_' '_' '_' '_']\n",
      " ['_' '_' '_' '_' '_' '_' '_' '_' '_' '_']]\n"
     ]
    }
   ],
   "source": [
    "tablero = crear_tablero(10)\n",
    "\n",
    "barco_1 = crear_barco(2)\n",
    "barco_2 = crear_barco(4)\n",
    "print(barco_1)\n",
    "try:\n",
    "    tablero = colocar_barco(barco_1, tablero)\n",
    "    tablero = colocar_barco(barco_2, tablero)\n",
    "except:\n",
    "    print(\"Habrá que generar nuevo barco porque se sale del tablero\")\n",
    "\n",
    "tablero = disparar((0,0), tablero)\n",
    "tablero = disparar((0,1), tablero)\n",
    "tablero = disparar((1,1), tablero)\n",
    "\n",
    "print(tablero)"
   ]
  },
  {
   "attachments": {},
   "cell_type": "markdown",
   "metadata": {},
   "source": [
    "5. Crea la función `colocar_barcos(tablero)`, que deberá de colocar la lista de barcos generados de forma aleatoria (6 barcos en total (3x2, 2x3 y 1x4)) ¡Mucho ojo con barcos que estén superpuestos (no pueden ocupar dos barcos la misma casilla) o barcos que se salgan del tablero!\n"
   ]
  },
  {
   "cell_type": "code",
   "execution_count": 24,
   "metadata": {},
   "outputs": [],
   "source": [
    "def colocar_barcos(tablero):\n",
    "    flota =[crear_barco(2),crear_barco(2),crear_barco(2), crear_barco(3), crear_barco(3), crear_barco(4)]\n",
    "    for barco in flota:\n",
    "        for x, y in barco:\n",
    "            if tablero[x,y] == \"O\":\n",
    "                colocar_barcos(tablero)\n",
    "            else:\n",
    "                for barco in flota:\n",
    "                    colocar_barco(barco, tablero)\n",
    "                return tablero"
   ]
  },
  {
   "cell_type": "code",
   "execution_count": 25,
   "metadata": {},
   "outputs": [
    {
     "name": "stdout",
     "output_type": "stream",
     "text": [
      "[['_' '_' '_' '_' '_' 'O' 'O' '_' '_' '_']\n",
      " ['_' '_' '_' '_' '_' '_' '_' '_' '_' '_']\n",
      " ['_' '_' '_' '_' '_' '_' '_' '_' '_' '_']\n",
      " ['_' '_' '_' '_' '_' '_' 'O' '_' '_' '_']\n",
      " ['_' '_' '_' '_' '_' '_' 'O' '_' '_' '_']\n",
      " ['_' '_' 'O' '_' '_' '_' 'O' 'O' 'O' '_']\n",
      " ['_' '_' 'O' '_' '_' '_' '_' '_' '_' '_']\n",
      " ['_' '_' 'O' '_' '_' '_' '_' 'O' 'O' '_']\n",
      " ['_' '_' 'O' '_' '_' '_' '_' 'O' 'O' 'O']\n",
      " ['_' '_' '_' '_' '_' '_' '_' '_' '_' '_']]\n"
     ]
    }
   ],
   "source": [
    "tablero = crear_tablero(10)\n",
    "tablero = colocar_barcos(tablero)\n",
    "\n",
    "print(tablero)"
   ]
  },
  {
   "attachments": {},
   "cell_type": "markdown",
   "metadata": {},
   "source": [
    "6. Escribe el flujo completo del programa, con la dinámica de turnos y funcionalidades necesarios para jugar contra la máquina (dispara a tu tablero de forma aleatoria). Crea todas las funciones que necesites y aplica todo lo aprendido que te sea útil.\n",
    "7. Encapsula todo en un `main.py` y un `utils.py` para ejecutarlo desde terminal.\n",
    "8. Sube tu proyecto a un repositorio de github y prepara una demo (solo se podrá enseñar desde terminal) para la presentación de tu proyecto."
   ]
  },
  {
   "cell_type": "code",
   "execution_count": 26,
   "metadata": {},
   "outputs": [
    {
     "name": "stdout",
     "output_type": "stream",
     "text": [
      "Hola! Bienvenido a mi juego de hundir la flota.\n",
      "Vale Manuel, empezamos!\n",
      "Opciones de partida:\n"
     ]
    }
   ],
   "source": [
    "from Proyecto_flota import utils \n",
    "\"\"\"\n",
    "6. Escribe el flujo completo del programa, con la dinámica de turnos y \n",
    "funcionalidades necesarios para jugar contra la máquina (dispara a tu tablero de \n",
    "forma aleatoria). Crea todas las funciones que necesites y aplica todo lo \n",
    "aprendido que te sea útil.\n",
    "\"\"\"\n",
    "\n",
    "print(\"Hola! Bienvenido a mi juego de hundir la flota.\")\n",
    "nombre = input(\"Dime tu nombre\")\n",
    "\n",
    "print(f\"Vale {nombre}, empezamos!\")\n",
    "print(\"Opciones de partida:\")\n"
   ]
  },
  {
   "cell_type": "code",
   "execution_count": 27,
   "metadata": {},
   "outputs": [],
   "source": [
    "tamagno = int(input(\"Tamaño del tablero:\"))\n",
    "\n",
    "tablero_usuario_ataques = utils.crear_tablero(tamagno)\n",
    "tablero_usuario_barcos = utils.colocar_barcos(utils.crear_tablero(tamagno))\n",
    "\n",
    "tablero_bot_ataques = utils.crear_tablero(tamagno)\n",
    "tablero_bot_barcos = utils.colocar_barcos(utils.crear_tablero(tamagno))\n"
   ]
  },
  {
   "cell_type": "code",
   "execution_count": 28,
   "metadata": {},
   "outputs": [
    {
     "name": "stdout",
     "output_type": "stream",
     "text": [
      "[['_' '_' '_' '_' '_' '_' '_' '_' '_' '_']\n",
      " ['_' '_' '_' '_' '_' '_' '_' '_' '_' '_']\n",
      " ['_' '_' '_' '_' '_' '_' '_' '_' '_' '_']\n",
      " ['_' '_' '_' '_' '_' '_' '_' '_' '_' '_']\n",
      " ['_' '_' '_' '_' '_' '_' '_' '_' '_' '_']\n",
      " ['_' '_' '_' '_' '_' '_' '_' '_' '_' '_']\n",
      " ['_' '_' '_' '_' '_' '_' '_' '_' '_' '_']\n",
      " ['_' '_' '_' '_' '_' '_' '_' '_' '_' '_']\n",
      " ['_' '_' '_' '_' '_' '_' '_' '_' '_' '_']\n",
      " ['_' '_' '_' '_' '_' '_' '_' '_' '_' '_']]\n",
      "[['_' '_' '_' '_' '_' '_' 'O' 'O' '_' '_']\n",
      " ['O' '_' 'O' '_' '_' '_' 'O' '_' '_' '_']\n",
      " ['O' '_' 'O' '_' '_' '_' '_' '_' '_' '_']\n",
      " ['O' '_' 'O' '_' 'O' 'O' 'O' 'O' '_' '_']\n",
      " ['_' '_' '_' '_' '_' '_' '_' '_' '_' '_']\n",
      " ['_' '_' '_' '_' '_' 'O' 'O' '_' '_' '_']\n",
      " ['_' '_' '_' '_' '_' '_' '_' '_' '_' '_']\n",
      " ['_' '_' '_' '_' '_' '_' '_' '_' '_' '_']\n",
      " ['_' '_' '_' '_' '_' '_' '_' '_' '_' '_']\n",
      " ['_' '_' '_' '_' '_' '_' '_' '_' '_' '_']]\n"
     ]
    }
   ],
   "source": [
    "print(tablero_usuario_ataques)\n",
    "print(tablero_usuario_barcos)"
   ]
  },
  {
   "cell_type": "code",
   "execution_count": 42,
   "metadata": {},
   "outputs": [],
   "source": [
    "def pasar_a_coordenadas(coord):\n",
    "    coord = coord.split(\",\")\n",
    "    coord = [int(numero) for numero in coord]\n",
    "    coord = tuple(coord)\n",
    "    return coord\n"
   ]
  },
  {
   "cell_type": "code",
   "execution_count": 43,
   "metadata": {},
   "outputs": [
    {
     "name": "stdout",
     "output_type": "stream",
     "text": [
      "(1, 2)\n"
     ]
    }
   ],
   "source": [
    "coordenada = utils.pasar_a_coordenadas(input(\"Escribe unas coordenadas (x,y)\"))\n",
    "print(coordenada)"
   ]
  },
  {
   "cell_type": "code",
   "execution_count": 44,
   "metadata": {},
   "outputs": [
    {
     "name": "stdout",
     "output_type": "stream",
     "text": [
      "Agua\n",
      "Tocado\n"
     ]
    },
    {
     "data": {
      "text/plain": [
       "array([['_', '_', '_', '_', '_', '_', 'O', 'O', '_', '_'],\n",
       "       ['O', '_', 'X', '_', '_', '_', 'O', '_', '_', '_'],\n",
       "       ['O', '_', 'O', '_', '_', '_', '_', '_', '_', '_'],\n",
       "       ['O', '_', 'O', '_', 'O', 'O', 'O', 'O', '_', '_'],\n",
       "       ['_', '_', '_', '_', '_', '_', '_', '_', '_', '_'],\n",
       "       ['_', '_', '_', '_', '_', 'O', 'O', '_', '_', '_'],\n",
       "       ['_', '_', '_', '_', '_', '_', '_', '_', '_', '_'],\n",
       "       ['_', '_', '_', '_', '_', '_', '_', '_', '_', '_'],\n",
       "       ['_', '_', '_', '_', '_', '_', '_', '_', '_', '_'],\n",
       "       ['_', '_', '_', '_', '_', '_', '_', '_', '_', '_']], dtype='<U1')"
      ]
     },
     "execution_count": 44,
     "metadata": {},
     "output_type": "execute_result"
    }
   ],
   "source": [
    "disparar(coordenada, tablero_usuario_ataques)\n",
    "disparar(coordenada, tablero_usuario_barcos)"
   ]
  },
  {
   "cell_type": "code",
   "execution_count": 72,
   "metadata": {},
   "outputs": [],
   "source": [
    "def imprimir_tableros(tablero_ataques, tablero_usuario):\n",
    "    print(f\"{tablero_ataques} \\n Tablero ataques \\n {\"*\" * 45} \\n {tablero_usuario} \\n Tablero Jugador\")\n"
   ]
  },
  {
   "cell_type": "code",
   "execution_count": 73,
   "metadata": {},
   "outputs": [
    {
     "name": "stdout",
     "output_type": "stream",
     "text": [
      "[['_' '_' '_' '_' '_' '_' '_' '_' '_' '_']\n",
      " ['_' '_' 'A' '_' '_' '_' '_' '_' '_' '_']\n",
      " ['_' '_' '_' '_' '_' '_' '_' '_' '_' '_']\n",
      " ['_' '_' '_' '_' '_' '_' '_' '_' '_' '_']\n",
      " ['_' '_' '_' '_' '_' '_' '_' '_' '_' '_']\n",
      " ['_' '_' '_' '_' '_' '_' '_' '_' '_' '_']\n",
      " ['_' '_' '_' '_' '_' '_' '_' '_' '_' '_']\n",
      " ['_' '_' '_' '_' '_' '_' '_' '_' '_' '_']\n",
      " ['_' '_' '_' '_' '_' '_' '_' '_' '_' '_']\n",
      " ['_' '_' '_' '_' '_' '_' '_' '_' '_' '_']] \n",
      " Tablero ataques \n",
      " ********************************************* \n",
      " [['_' '_' '_' '_' '_' '_' 'O' 'O' '_' '_']\n",
      " ['O' '_' 'X' '_' '_' '_' 'O' '_' '_' '_']\n",
      " ['O' '_' 'O' '_' '_' '_' '_' '_' '_' '_']\n",
      " ['O' '_' 'O' '_' 'O' 'O' 'O' 'O' '_' '_']\n",
      " ['_' '_' '_' '_' '_' '_' '_' '_' '_' '_']\n",
      " ['_' '_' '_' '_' '_' 'O' 'O' '_' '_' '_']\n",
      " ['_' '_' '_' '_' '_' '_' '_' '_' '_' '_']\n",
      " ['_' '_' '_' '_' '_' '_' '_' '_' '_' '_']\n",
      " ['_' '_' '_' '_' '_' '_' '_' '_' '_' '_']\n",
      " ['_' '_' '_' '_' '_' '_' '_' '_' '_' '_']] \n",
      " Tablero Jugador\n",
      "[['_' '_' '_' '_' '_' '_' '_' '_' '_' '_']\n",
      " ['_' '_' 'A' '_' '_' '_' '_' '_' '_' '_']\n",
      " ['_' '_' '_' '_' '_' '_' '_' '_' '_' '_']\n",
      " ['_' '_' '_' '_' '_' '_' '_' '_' '_' '_']\n",
      " ['_' '_' '_' '_' '_' '_' '_' '_' '_' '_']\n",
      " ['_' '_' '_' '_' '_' '_' '_' '_' '_' '_']\n",
      " ['_' '_' '_' '_' '_' '_' '_' '_' '_' '_']\n",
      " ['_' '_' '_' '_' '_' '_' '_' '_' '_' '_']\n",
      " ['_' '_' '_' '_' '_' '_' '_' '_' '_' '_']\n",
      " ['_' '_' '_' '_' '_' '_' '_' '_' '_' '_']]\n",
      "Tablero ataques\n",
      "*********************************************\n",
      "[['_' '_' '_' '_' '_' '_' 'O' 'O' '_' '_']\n",
      " ['O' '_' 'X' '_' '_' '_' 'O' '_' '_' '_']\n",
      " ['O' '_' 'O' '_' '_' '_' '_' '_' '_' '_']\n",
      " ['O' '_' 'O' '_' 'O' 'O' 'O' 'O' '_' '_']\n",
      " ['_' '_' '_' '_' '_' '_' '_' '_' '_' '_']\n",
      " ['_' '_' '_' '_' '_' 'O' 'O' '_' '_' '_']\n",
      " ['_' '_' '_' '_' '_' '_' '_' '_' '_' '_']\n",
      " ['_' '_' '_' '_' '_' '_' '_' '_' '_' '_']\n",
      " ['_' '_' '_' '_' '_' '_' '_' '_' '_' '_']\n",
      " ['_' '_' '_' '_' '_' '_' '_' '_' '_' '_']]\n",
      "Tablero barcos\n"
     ]
    }
   ],
   "source": [
    "imprimir_tableros(tablero_usuario_ataques, tablero_usuario_barcos)"
   ]
  },
  {
   "cell_type": "code",
   "execution_count": null,
   "metadata": {},
   "outputs": [],
   "source": [
    "jugando = True\n",
    "while jugando == True:\n",
    "    coordenada = utils.pasar_a_coordenadas(input(\"Escribe unas coordenadas (x,y)\"))\n",
    "    disparar(coordenada, tablero_usuario_ataques)\n",
    "    disparar(coordenada, tablero_usuario_barcos)\n",
    "\n"
   ]
  }
 ],
 "metadata": {
  "kernelspec": {
   "display_name": "Python 3.7.4 64-bit",
   "language": "python",
   "name": "python3"
  },
  "language_info": {
   "codemirror_mode": {
    "name": "ipython",
    "version": 3
   },
   "file_extension": ".py",
   "mimetype": "text/x-python",
   "name": "python",
   "nbconvert_exporter": "python",
   "pygments_lexer": "ipython3",
   "version": "3.12.6"
  },
  "orig_nbformat": 4,
  "vscode": {
   "interpreter": {
    "hash": "90139cb9a825bf3d63f6f6704e828dbd1ff7edbd4d0c6e906a71235d6efc74af"
   }
  }
 },
 "nbformat": 4,
 "nbformat_minor": 2
}
